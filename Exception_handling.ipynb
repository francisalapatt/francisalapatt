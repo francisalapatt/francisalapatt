{
 "cells": [
  {
   "cell_type": "code",
   "execution_count": 1,
   "metadata": {
    "colab": {
     "base_uri": "https://localhost:8080/",
     "height": 187
    },
    "colab_type": "code",
    "id": "O5mUZ0ZVPlAO",
    "outputId": "c95c106d-cb7a-4eda-9a3e-c9bacc2a96be"
   },
   "outputs": [
    {
     "name": "stdout",
     "output_type": "stream",
     "text": [
      "Enter a number: 56\n",
      "This value is too large, try again!\n",
      "Enter a number: 15\n",
      "This value is too large, try again!\n",
      "Enter a number: 12\n",
      "This value is too large, try again!\n",
      "Enter a number: 4\n",
      "This value is too small, try again!\n",
      "Enter a number: 5\n",
      "This value is too small, try again!\n",
      "Enter a number: 4\n",
      "This value is too small, try again!\n",
      "Enter a number: 7\n",
      "This value is too small, try again!\n",
      "Enter a number: 10\n",
      "Congratulations! You guessed it correctly.\n"
     ]
    }
   ],
   "source": [
    "#User-Defined Exceptions\n",
    "\n",
    "# Base class for other exceptions \n",
    "class Error(Exception):\n",
    "    pass\n",
    "# Raised when the input value is too small\n",
    "class ValueSmallError(Error):\n",
    "    pass\n",
    "# Raised when the input value is too large\n",
    "class ValueLargeError(Error):\n",
    "    pass\n",
    "number = 10\n",
    "while True:\n",
    "    try:\n",
    "        in_num = int(input(\"Enter a number: \"))\n",
    "        if in_num < number:\n",
    "            raise ValueSmallError\n",
    "        elif in_num > number:            \n",
    "            raise ValueLargeError\n",
    "            break\n",
    "        elif in_num == number:\n",
    "            break\n",
    "    except ValueSmallError:\n",
    "        print(\"This value is too small, try again!\",end =\"\\n\")\n",
    "    except ValueLargeError:\n",
    "            print(\"This value is too large, try again!\",end =\"\\n\")\n",
    "print(\"Congratulations! You guessed it correctly.\")"
   ]
  },
  {
   "cell_type": "code",
   "execution_count": null,
   "metadata": {},
   "outputs": [],
   "source": []
  }
 ],
 "metadata": {
  "colab": {
   "collapsed_sections": [
    "p8mLazoJmgvm",
    "dSEMFiARnCc6",
    "xYaveyOooZS3",
    "ChMyUXLwoeUV",
    "e6mjtA1wohI5",
    "kU9TQ1nkp265",
    "N1X-LGRprFfn",
    "WmupzbwkvJnh",
    "zOuGvFBmv-AE"
   ],
   "name": "Demo: Python OOPS.ipynb",
   "provenance": []
  },
  "kernelspec": {
   "display_name": "Python 3",
   "language": "python",
   "name": "python3"
  },
  "language_info": {
   "codemirror_mode": {
    "name": "ipython",
    "version": 3
   },
   "file_extension": ".py",
   "mimetype": "text/x-python",
   "name": "python",
   "nbconvert_exporter": "python",
   "pygments_lexer": "ipython3",
   "version": "3.8.8"
  }
 },
 "nbformat": 4,
 "nbformat_minor": 1
}
