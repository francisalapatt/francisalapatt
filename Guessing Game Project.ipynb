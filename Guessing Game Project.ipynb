{
 "cells": [
  {
   "cell_type": "code",
   "execution_count": 1,
   "id": "197a4136",
   "metadata": {},
   "outputs": [],
   "source": [
    "import random"
   ]
  },
  {
   "cell_type": "code",
   "execution_count": 2,
   "id": "6bba33bc",
   "metadata": {},
   "outputs": [],
   "source": [
    "import math"
   ]
  },
  {
   "cell_type": "code",
   "execution_count": null,
   "id": "fd24ab62",
   "metadata": {},
   "outputs": [],
   "source": [
    "lower = int(input('Enter lower bound:- '))\n",
    "upper = int(input('Enter upper bound:- '))\n",
    "x= random.randint(lower,upper)\n",
    "print(\"\\n\\tYou've only \", round(math.log(upper - lower + 1,2)), \" chances to guess the integer!\\n\")\n",
    "count =0\n",
    "while count < math.log(upper - lower + 1,2) :\n",
    "    count += 1\n",
    "    guess = int(input(\"Guess a number :- \"))\n",
    "    if x == guess:\n",
    "        print( \" Congratulations you did it in\", count, \" try\")\n",
    "        break\n",
    "    elif x > guess:\n",
    "        print( \" You guessed too small \")\n",
    "    elif x < guess :\n",
    "        print( \" You guess too high\")\n",
    "if count >= math.log(upper - lower +1,2):\n",
    "    print(\"\\nThe number %d\"%x)\n",
    "    print(\"\\tBetter Luck next time !\")"
   ]
  },
  {
   "cell_type": "code",
   "execution_count": null,
   "id": "1db2b4ab",
   "metadata": {},
   "outputs": [],
   "source": []
  }
 ],
 "metadata": {
  "kernelspec": {
   "display_name": "Python 3",
   "language": "python",
   "name": "python3"
  },
  "language_info": {
   "codemirror_mode": {
    "name": "ipython",
    "version": 3
   },
   "file_extension": ".py",
   "mimetype": "text/x-python",
   "name": "python",
   "nbconvert_exporter": "python",
   "pygments_lexer": "ipython3",
   "version": "3.8.8"
  }
 },
 "nbformat": 4,
 "nbformat_minor": 5
}
